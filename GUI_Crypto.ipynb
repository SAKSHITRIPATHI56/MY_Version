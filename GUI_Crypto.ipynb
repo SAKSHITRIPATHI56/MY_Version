{
 "cells": [
  {
   "cell_type": "code",
   "execution_count": 1,
   "id": "b195c08e",
   "metadata": {},
   "outputs": [],
   "source": [
    "# python module for one-timepad\n",
    "import onetimepad\n",
    "# python module to create GUI\t\t\n",
    "from tkinter import *"
   ]
  },
  {
   "cell_type": "code",
   "execution_count": 2,
   "id": "9f725105",
   "metadata": {},
   "outputs": [
    {
     "data": {
      "text/plain": [
       "''"
      ]
     },
     "execution_count": 2,
     "metadata": {},
     "output_type": "execute_result"
    }
   ],
   "source": [
    "\t\t\n",
    "root = Tk()\n",
    "root.title(\"CRYPTOGRAPHY\")\n",
    "root.geometry(\"800x600\")"
   ]
  },
  {
   "cell_type": "code",
   "execution_count": 3,
   "id": "86cb010a",
   "metadata": {},
   "outputs": [],
   "source": [
    "def encryptMessage():\t\t\t\t\t\n",
    "\tpt = e1.get()\n",
    "\n",
    "\t# inbuilt function to encrypt a message\n",
    "\tct = onetimepad.encrypt(pt, 'random')\n",
    "\te2.insert(0, ct)"
   ]
  },
  {
   "cell_type": "code",
   "execution_count": 4,
   "id": "da3bbe1b",
   "metadata": {},
   "outputs": [],
   "source": [
    "def decryptMessage():\t\t\t\t\t\n",
    "\tct1 = e3.get()\n",
    "\n",
    "\t# inbuilt function to decrypt a message\n",
    "\tpt1 = onetimepad.decrypt(ct1, 'random')\n",
    "\te4.insert(0, pt1)\n",
    "\t"
   ]
  },
  {
   "cell_type": "code",
   "execution_count": 5,
   "id": "32cb6465",
   "metadata": {},
   "outputs": [],
   "source": [
    "# creating labels and positioning them on the grid\n",
    "label1 = Label(root, text ='plain text')\t\t\t\n",
    "label1.grid(row = 10, column = 1)\n",
    "label2 = Label(root, text ='encrypted text')\n",
    "label2.grid(row = 11, column = 1)\n",
    "l3 = Label(root, text =\"cipher text\")\n",
    "l3.grid(row = 10, column = 10)\n",
    "l4 = Label(root, text =\"decrypted text\")\n",
    "l4.grid(row = 11, column = 10)"
   ]
  },
  {
   "cell_type": "code",
   "execution_count": 6,
   "id": "09a33374",
   "metadata": {},
   "outputs": [],
   "source": [
    "# creating entries and positioning them on the grid\n",
    "e1 = Entry(root)\n",
    "e1.grid(row = 10, column = 2)\n",
    "e2 = Entry(root)\n",
    "e2.grid(row = 11, column = 2)\n",
    "e3 = Entry(root)\n",
    "e3.grid(row = 10, column = 11)\n",
    "e4 = Entry(root)\n",
    "e4.grid(row = 11, column = 11)"
   ]
  },
  {
   "cell_type": "code",
   "execution_count": 7,
   "id": "21f3498a",
   "metadata": {},
   "outputs": [],
   "source": [
    "# creating encryption button to produce the output\n",
    "ent = Button(root, text = \"encrypt\", bg =\"red\", fg =\"white\", command = encryptMessage)\n",
    "ent.grid(row = 13, column = 2)"
   ]
  },
  {
   "cell_type": "code",
   "execution_count": 8,
   "id": "30207c78",
   "metadata": {},
   "outputs": [],
   "source": [
    "# creating decryption button to produce the output\n",
    "b2 = Button(root, text = \"decrypt\", bg =\"green\", fg =\"white\", command = decryptMessage)\n",
    "b2.grid(row = 13, column = 11)"
   ]
  },
  {
   "cell_type": "code",
   "execution_count": 9,
   "id": "3d88426c",
   "metadata": {},
   "outputs": [],
   "source": [
    "root.mainloop()"
   ]
  }
 ],
 "metadata": {
  "kernelspec": {
   "display_name": "Python 3 (ipykernel)",
   "language": "python",
   "name": "python3"
  },
  "language_info": {
   "codemirror_mode": {
    "name": "ipython",
    "version": 3
   },
   "file_extension": ".py",
   "mimetype": "text/x-python",
   "name": "python",
   "nbconvert_exporter": "python",
   "pygments_lexer": "ipython3",
   "version": "3.8.8"
  }
 },
 "nbformat": 4,
 "nbformat_minor": 5
}
